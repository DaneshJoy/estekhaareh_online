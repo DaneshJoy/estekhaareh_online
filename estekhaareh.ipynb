{
  "cells": [
    {
      "cell_type": "code",
      "execution_count": 1,
      "metadata": {
        "id": "lIYdn1woOS1n"
      },
      "outputs": [],
      "source": [
        "import random\n",
        "import requests as req\n",
        "from bs4 import BeautifulSoup"
      ]
    },
    {
      "cell_type": "code",
      "execution_count": 2,
      "metadata": {
        "id": "WXOgZucWkt0A"
      },
      "outputs": [],
      "source": [
        "odd_page_numbers = range(1, 604, 2)\n",
        "page_number = random.choice(odd_page_numbers)"
      ]
    },
    {
      "cell_type": "code",
      "execution_count": 3,
      "metadata": {
        "id": "tMpUsM-rftfe"
      },
      "outputs": [],
      "source": [
        "url = f'https://www.aviny.com/%D8%A7%D8%B3%D8%AA%D8%AE%D8%A7%D8%B1%D9%87/{page_number}'\n",
        "page = req.get(url)"
      ]
    },
    {
      "cell_type": "code",
      "execution_count": 5,
      "metadata": {
        "id": "eJNspsWJfbCQ"
      },
      "outputs": [],
      "source": [
        "soup = BeautifulSoup(page.text, 'html.parser')\n",
        "# print(soup.prettify())"
      ]
    },
    {
      "cell_type": "code",
      "execution_count": 6,
      "metadata": {
        "id": "GNuwngAfffjx"
      },
      "outputs": [],
      "source": [
        "fields = soup.find_all('div', class_='field')"
      ]
    },
    {
      "cell_type": "code",
      "execution_count": 33,
      "metadata": {
        "colab": {
          "base_uri": "https://localhost:8080/"
        },
        "id": "2mKKbY0IhLdi",
        "outputId": "6978845b-dcc9-4101-bd15-d686b5792f11"
      },
      "outputs": [
        {
          "name": "stdout",
          "output_type": "stream",
          "text": [
            "صفحه: 151\n",
            "سوره: اعراف (7)\n",
            "آیه: 1\n",
            "نتیجه استخاره: حتما انجام بده\n",
            "نتیجه کلی: بسیار خوب است نترس و با توکل به‌خدا انجام بده.\n",
            "نتیجه ازدواج: ان‌شاءالله که مبارک است مورد خوبی است و شریک زندگی مناسبی برای شماست.\n",
            "نتیجه معامله: با توکل به‌خدا انجام بده ان‌شاءالله که پر سود و منفعت است.\n"
          ]
        }
      ],
      "source": [
        "results = []\n",
        "for field in fields:\n",
        "    content = None\n",
        "    field_label = field.find('div', class_='field__label')\n",
        "    field_item = field.find('div', class_='field__item')\n",
        "    field_number = field.find('input', {\"id\": \"goestekhare-page\"})\n",
        "    if field_number:\n",
        "        content = f\"{field_label.text.strip()}: {field_number.get('value')}\"\n",
        "    elif field_label:\n",
        "        if 'سوره' in field_label.text:\n",
        "            sooreh = field_item.text.split('(')[1].split(')')[0]\n",
        "        if 'آیه' in field_label.text:\n",
        "            ayeh = field_item.text.strip()\n",
        "        content = f\"{field_label.text.replace(':', '').strip()}: {field_item.text.strip()}\"\n",
        "    if content:\n",
        "        print(content)\n",
        "        results.append(content)"
      ]
    },
    {
      "cell_type": "code",
      "execution_count": 34,
      "metadata": {
        "id": "7v0uP59FjvkI"
      },
      "outputs": [
        {
          "name": "stdout",
          "output_type": "stream",
          "text": [
            "ترجمه: المص (بعضی در تفسیر آن گفته‌اند: خدای مهربان صاحب اقتدار بردبار). (۱)\n"
          ]
        }
      ],
      "source": [
        "translate_url = f\"https://www.aviny.com/soore/{sooreh}?ayeh={ayeh}\"\n",
        "translate_page = req.get(translate_url)\n",
        "translate_soup = BeautifulSoup(translate_page.text, 'html.parser')\n",
        "translates = translate_soup.find('div', class_='field-content')\n",
        "translate_selected = 'ترجمه: ' + translates.find_all('p')[int(ayeh)].text.strip()\n",
        "results.append(translate_selected)\n",
        "print(translate_selected)"
      ]
    },
    {
      "cell_type": "code",
      "execution_count": 40,
      "metadata": {},
      "outputs": [
        {
          "name": "stderr",
          "output_type": "stream",
          "text": [
            "C:\\Users\\Saeed\\AppData\\Local\\Temp\\ipykernel_3320\\2069567606.py:4: DeprecationWarning: Importing display from IPython.core.display is deprecated since IPython 7.14, please import from IPython.display\n",
            "  from IPython.core.display import display, HTML\n"
          ]
        },
        {
          "data": {
            "text/html": [
              "\n",
              "<!DOCTYPE html>\n",
              "<html lang=\"fa\">\n",
              "<head>\n",
              "    <meta charset=\"UTF-8\">\n",
              "    <meta name=\"viewport\" content=\"width=device-width, initial-scale=1.0\">\n",
              "    <title>پیام</title>\n",
              "    <style>\n",
              "        body {\n",
              "            direction: rtl;\n",
              "            text-align: right;\n",
              "            font-family: Tahoma, Arial, sans-serif;\n",
              "            color: black;\n",
              "        }\n",
              "        .message-box {\n",
              "            border: 1px solid #ccc;\n",
              "            padding: 20px;\n",
              "            margin: 20px auto;\n",
              "            max-width: 400px;\n",
              "            background-color: #f9f9f9;\n",
              "        }\n",
              "    </style>\n",
              "</head>\n",
              "<body>\n",
              "    <div class=\"message-box\">\n",
              "                <p>صفحه: 151</p>\n",
              "        <p>سوره: اعراف (7)</p>\n",
              "        <p>آیه: 1</p>\n",
              "        <p>نتیجه استخاره: حتما انجام بده</p>\n",
              "        <p>نتیجه کلی: بسیار خوب است نترس و با توکل به‌خدا انجام بده.</p>\n",
              "        <p>نتیجه ازدواج: ان‌شاءالله که مبارک است مورد خوبی است و شریک زندگی مناسبی برای شماست.</p>\n",
              "        <p>نتیجه معامله: با توکل به‌خدا انجام بده ان‌شاءالله که پر سود و منفعت است.</p>\n",
              "        <p>ترجمه: المص (بعضی در تفسیر آن گفته‌اند: خدای مهربان صاحب اقتدار بردبار). (۱)</p>\n",
              "\n",
              "    </div>\n",
              "</body>\n",
              "</html>\n"
            ],
            "text/plain": [
              "<IPython.core.display.HTML object>"
            ]
          },
          "metadata": {},
          "output_type": "display_data"
        }
      ],
      "source": [
        "#%%\n",
        "import webbrowser\n",
        "import os\n",
        "from IPython.core.display import display, HTML\n",
        "\n",
        "# HTML content\n",
        "html_results = ''\n",
        "for item in results:\n",
        "    html_results += f\"        <p>{item}</p>\\n\"\n",
        "    \n",
        "html_content = f\"\"\"\n",
        "<!DOCTYPE html>\n",
        "<html lang=\"fa\">\n",
        "<head>\n",
        "    <meta charset=\"UTF-8\">\n",
        "    <meta name=\"viewport\" content=\"width=device-width, initial-scale=1.0\">\n",
        "    <title>پیام</title>\n",
        "    <style>\n",
        "        body {{\n",
        "            direction: rtl;\n",
        "            text-align: right;\n",
        "            font-family: Tahoma, Arial, sans-serif;\n",
        "            color: black;\n",
        "        }}\n",
        "        .message-box {{\n",
        "            border: 1px solid #ccc;\n",
        "            padding: 20px;\n",
        "            margin: 20px auto;\n",
        "            max-width: 400px;\n",
        "            background-color: #f9f9f9;\n",
        "        }}\n",
        "    </style>\n",
        "</head>\n",
        "<body>\n",
        "    <div class=\"message-box\">\n",
        "        {html_results}\n",
        "    </div>\n",
        "</body>\n",
        "</html>\n",
        "\"\"\"\n",
        "\n",
        "# Display the HTML content in the Jupyter Notebook cell output\n",
        "display(HTML(html_content))"
      ]
    },
    {
      "cell_type": "code",
      "execution_count": null,
      "metadata": {},
      "outputs": [],
      "source": []
    }
  ],
  "metadata": {
    "colab": {
      "name": "scratchpad",
      "provenance": []
    },
    "kernelspec": {
      "display_name": "base",
      "language": "python",
      "name": "python3"
    },
    "language_info": {
      "codemirror_mode": {
        "name": "ipython",
        "version": 3
      },
      "file_extension": ".py",
      "mimetype": "text/x-python",
      "name": "python",
      "nbconvert_exporter": "python",
      "pygments_lexer": "ipython3",
      "version": "3.12.9"
    }
  },
  "nbformat": 4,
  "nbformat_minor": 0
}
